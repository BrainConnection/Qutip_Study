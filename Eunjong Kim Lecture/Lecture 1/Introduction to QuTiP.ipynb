{
 "cells": [
  {
   "cell_type": "markdown",
   "id": "1f6cf35f",
   "metadata": {},
   "source": [
    "# QuTiP: Quantum optics Toolbox in Python"
   ]
  },
  {
   "cell_type": "markdown",
   "id": "f8cf89af",
   "metadata": {},
   "source": [
    "Q: Did you successfully install QuTiP?"
   ]
  },
  {
   "cell_type": "code",
   "execution_count": 2,
   "id": "45a2c4ca",
   "metadata": {},
   "outputs": [],
   "source": [
    "import numpy as np\n",
    "import matplotlib.pyplot as plt\n",
    "from qutip import *"
   ]
  },
  {
   "cell_type": "markdown",
   "id": "d9b0ce05",
   "metadata": {},
   "source": [
    "## States"
   ]
  },
  {
   "cell_type": "markdown",
   "id": "a01a9079",
   "metadata": {},
   "source": [
    "$|n\\rangle$"
   ]
  },
  {
   "cell_type": "code",
   "execution_count": 60,
   "id": "6c540aec",
   "metadata": {},
   "outputs": [
    {
     "data": {
      "text/latex": [
       "Quantum object: dims = [[10], [1]], shape = (10, 1), type = ket $ \\\\ \\left(\\begin{matrix}1.0\\\\0.0\\\\0.0\\\\0.0\\\\0.0\\\\0.0\\\\0.0\\\\0.0\\\\0.0\\\\0.0\\\\\\end{matrix}\\right)$"
      ],
      "text/plain": [
       "Quantum object: dims = [[10], [1]], shape = (10, 1), type = ket\n",
       "Qobj data =\n",
       "[[1.]\n",
       " [0.]\n",
       " [0.]\n",
       " [0.]\n",
       " [0.]\n",
       " [0.]\n",
       " [0.]\n",
       " [0.]\n",
       " [0.]\n",
       " [0.]]"
      ]
     },
     "execution_count": 60,
     "metadata": {},
     "output_type": "execute_result"
    }
   ],
   "source": [
    "basis(10, 0)"
   ]
  },
  {
   "cell_type": "markdown",
   "id": "b49b3e0d",
   "metadata": {},
   "source": [
    "States are represented as ket vectors (column vectors)"
   ]
  },
  {
   "cell_type": "code",
   "execution_count": 3,
   "id": "a283af87",
   "metadata": {},
   "outputs": [
    {
     "data": {
      "text/latex": [
       "Quantum object: dims = [[2], [1]], shape = (2, 1), type = ket $ \\\\ \\left(\\begin{matrix}0.0\\\\1.0\\\\\\end{matrix}\\right)$"
      ],
      "text/plain": [
       "Quantum object: dims = [[2], [1]], shape = (2, 1), type = ket\n",
       "Qobj data =\n",
       "[[0.]\n",
       " [1.]]"
      ]
     },
     "execution_count": 3,
     "metadata": {},
     "output_type": "execute_result"
    }
   ],
   "source": [
    "# Fundamental basis states (Fock states of oscillator modes)\n",
    "\n",
    "N = 2  # number of states in the Hilbert space\n",
    "n = 1  # the state that will be occupied\n",
    "\n",
    "basis(N, n)  # equivalent to fock(N, n)"
   ]
  },
  {
   "cell_type": "markdown",
   "id": "a0cde50b",
   "metadata": {},
   "source": [
    "Here, `N` is the dimension of the Hilbert space to be kept and `n` is the index of the state that will be occupied."
   ]
  },
  {
   "cell_type": "markdown",
   "id": "b20eca84",
   "metadata": {},
   "source": [
    "### Coherent State"
   ]
  },
  {
   "cell_type": "markdown",
   "id": "4504852d",
   "metadata": {},
   "source": [
    "$\\hat{a}|\\alpha\\rangle = \\alpha |\\alpha\\rangle$"
   ]
  },
  {
   "cell_type": "code",
   "execution_count": 61,
   "id": "023f836a",
   "metadata": {},
   "outputs": [
    {
     "data": {
      "text/latex": [
       "Quantum object: dims = [[10], [1]], shape = (10, 1), type = ket $ \\\\ \\left(\\begin{matrix}0.607\\\\0.607\\\\0.429\\\\0.248\\\\0.124\\\\0.055\\\\0.023\\\\0.009\\\\0.003\\\\0.001\\\\\\end{matrix}\\right)$"
      ],
      "text/plain": [
       "Quantum object: dims = [[10], [1]], shape = (10, 1), type = ket\n",
       "Qobj data =\n",
       "[[0.60653066]\n",
       " [0.60653066]\n",
       " [0.42888194]\n",
       " [0.24761511]\n",
       " [0.12380753]\n",
       " [0.0553686 ]\n",
       " [0.02260303]\n",
       " [0.00854887]\n",
       " [0.00299672]\n",
       " [0.00110007]]"
      ]
     },
     "execution_count": 61,
     "metadata": {},
     "output_type": "execute_result"
    }
   ],
   "source": [
    "# a coherent state\n",
    "coherent(N=10, alpha=1.0)"
   ]
  },
  {
   "cell_type": "markdown",
   "id": "4054976e",
   "metadata": {},
   "source": [
    "Q: check that the equation\n",
    "$$|\\alpha\\rangle = e^{-|\\alpha|^2/2}\\sum_{n=0}^{\\infty} \\frac{\\alpha^n}{\\sqrt{n!}}|n\\rangle $$\n",
    "is valid."
   ]
  },
  {
   "cell_type": "markdown",
   "id": "9111e740",
   "metadata": {},
   "source": [
    "Q: how do we express bra vectors (row vectors) in QuTiP?"
   ]
  },
  {
   "cell_type": "markdown",
   "id": "f8da1bc3",
   "metadata": {},
   "source": [
    "`.dag()` method performs dagger operation on the state vectors"
   ]
  },
  {
   "cell_type": "code",
   "execution_count": 14,
   "id": "7b6d173e",
   "metadata": {},
   "outputs": [
    {
     "data": {
      "text/latex": [
       "Quantum object: dims = [[1], [2]], shape = (1, 2), type = bra $ \\\\ \\left(\\begin{matrix}0.0 & 1.0\\\\\\end{matrix}\\right)$"
      ],
      "text/plain": [
       "Quantum object: dims = [[1], [2]], shape = (1, 2), type = bra\n",
       "Qobj data =\n",
       "[[0. 1.]]"
      ]
     },
     "execution_count": 14,
     "metadata": {},
     "output_type": "execute_result"
    }
   ],
   "source": [
    "psi = basis(2, 1)\n",
    "psi.dag()"
   ]
  },
  {
   "cell_type": "code",
   "execution_count": 64,
   "id": "122d3cbc",
   "metadata": {},
   "outputs": [
    {
     "data": {
      "text/latex": [
       "Quantum object: dims = [[1], [10]], shape = (1, 10), type = bra $ \\\\ \\left(\\begin{matrix}0.607 & 0.607 & 0.429 & 0.248 & 0.124 & 0.055 & 0.023 & 0.009 & 0.003 & 0.001\\\\\\end{matrix}\\right)$"
      ],
      "text/plain": [
       "Quantum object: dims = [[1], [10]], shape = (1, 10), type = bra\n",
       "Qobj data =\n",
       "[[0.60653066 0.60653066 0.42888194 0.24761511 0.12380753 0.0553686\n",
       "  0.02260303 0.00854887 0.00299672 0.00110007]]"
      ]
     },
     "execution_count": 64,
     "metadata": {},
     "output_type": "execute_result"
    }
   ],
   "source": [
    "alpha = coherent(10, 1)\n",
    "alpha.dag()"
   ]
  },
  {
   "cell_type": "markdown",
   "id": "c880403e",
   "metadata": {},
   "source": [
    "### Density Matrix"
   ]
  },
  {
   "cell_type": "markdown",
   "id": "3a3b432c",
   "metadata": {},
   "source": [
    "$$\\rho = \\sum_{i} p_i |\\psi_i\\rangle \\langle \\psi_i |$$"
   ]
  },
  {
   "cell_type": "markdown",
   "id": "2c8db175",
   "metadata": {},
   "source": [
    "Fock state density matrix: $\\rho = |n\\rangle \\langle n|$"
   ]
  },
  {
   "cell_type": "code",
   "execution_count": 15,
   "id": "00848a30",
   "metadata": {},
   "outputs": [
    {
     "data": {
      "text/latex": [
       "Quantum object: dims = [[5], [5]], shape = (5, 5), type = oper, isherm = True $ \\\\ \\left(\\begin{matrix}0.0 & 0.0 & 0.0 & 0.0 & 0.0\\\\0.0 & 0.0 & 0.0 & 0.0 & 0.0\\\\0.0 & 0.0 & 1.0 & 0.0 & 0.0\\\\0.0 & 0.0 & 0.0 & 0.0 & 0.0\\\\0.0 & 0.0 & 0.0 & 0.0 & 0.0\\\\\\end{matrix}\\right)$"
      ],
      "text/plain": [
       "Quantum object: dims = [[5], [5]], shape = (5, 5), type = oper, isherm = True\n",
       "Qobj data =\n",
       "[[0. 0. 0. 0. 0.]\n",
       " [0. 0. 0. 0. 0.]\n",
       " [0. 0. 1. 0. 0.]\n",
       " [0. 0. 0. 0. 0.]\n",
       " [0. 0. 0. 0. 0.]]"
      ]
     },
     "execution_count": 15,
     "metadata": {},
     "output_type": "execute_result"
    }
   ],
   "source": [
    "# a fock state as density matrix\n",
    "fock_dm(5, 2)  # 5 = hilbert space size, 2 = state that is occupied"
   ]
  },
  {
   "cell_type": "code",
   "execution_count": 66,
   "id": "5ffa3079",
   "metadata": {},
   "outputs": [
    {
     "data": {
      "text/latex": [
       "Quantum object: dims = [[5], [5]], shape = (5, 5), type = oper, isherm = True $ \\\\ \\left(\\begin{matrix}0.0 & 0.0 & 0.0 & 0.0 & 0.0\\\\0.0 & 0.0 & 0.0 & 0.0 & 0.0\\\\0.0 & 0.0 & 1.0 & 0.0 & 0.0\\\\0.0 & 0.0 & 0.0 & 0.0 & 0.0\\\\0.0 & 0.0 & 0.0 & 0.0 & 0.0\\\\\\end{matrix}\\right)$"
      ],
      "text/plain": [
       "Quantum object: dims = [[5], [5]], shape = (5, 5), type = oper, isherm = True\n",
       "Qobj data =\n",
       "[[0. 0. 0. 0. 0.]\n",
       " [0. 0. 0. 0. 0.]\n",
       " [0. 0. 1. 0. 0.]\n",
       " [0. 0. 0. 0. 0.]\n",
       " [0. 0. 0. 0. 0.]]"
      ]
     },
     "execution_count": 66,
     "metadata": {},
     "output_type": "execute_result"
    }
   ],
   "source": [
    "# alternative method to generate a density matrix :\n",
    "basis(5, 2) * basis(5, 2).dag()"
   ]
  },
  {
   "cell_type": "code",
   "execution_count": 18,
   "id": "3952f247",
   "metadata": {},
   "outputs": [
    {
     "data": {
      "text/latex": [
       "Quantum object: dims = [[8], [8]], shape = (8, 8), type = oper, isherm = True $ \\\\ \\left(\\begin{matrix}0.368 & 0.368 & 0.260 & 0.150 & 0.075 & 0.034 & 0.014 & 0.006\\\\0.368 & 0.368 & 0.260 & 0.150 & 0.075 & 0.034 & 0.014 & 0.006\\\\0.260 & 0.260 & 0.184 & 0.106 & 0.053 & 0.024 & 0.010 & 0.004\\\\0.150 & 0.150 & 0.106 & 0.061 & 0.031 & 0.014 & 0.006 & 0.002\\\\0.075 & 0.075 & 0.053 & 0.031 & 0.015 & 0.007 & 0.003 & 0.001\\\\0.034 & 0.034 & 0.024 & 0.014 & 0.007 & 0.003 & 0.001 & 5.276\\times10^{-04}\\\\0.014 & 0.014 & 0.010 & 0.006 & 0.003 & 0.001 & 4.990\\times10^{-04} & 2.126\\times10^{-04}\\\\0.006 & 0.006 & 0.004 & 0.002 & 0.001 & 5.276\\times10^{-04} & 2.126\\times10^{-04} & 9.058\\times10^{-05}\\\\\\end{matrix}\\right)$"
      ],
      "text/plain": [
       "Quantum object: dims = [[8], [8]], shape = (8, 8), type = oper, isherm = True\n",
       "Qobj data =\n",
       "[[3.67879439e-01 3.67879455e-01 2.60129900e-01 1.50187300e-01\n",
       "  7.50858773e-02 3.36199110e-02 1.35485515e-02 5.77267786e-03]\n",
       " [3.67879455e-01 3.67879470e-01 2.60129911e-01 1.50187306e-01\n",
       "  7.50858804e-02 3.36199124e-02 1.35485520e-02 5.77267810e-03]\n",
       " [2.60129900e-01 2.60129911e-01 1.83939513e-01 1.06198399e-01\n",
       "  5.30937031e-02 2.37728537e-02 9.58026722e-03 4.08189737e-03]\n",
       " [1.50187300e-01 1.50187306e-01 1.06198399e-01 6.13141770e-02\n",
       "  3.06539153e-02 1.37253761e-02 5.53121524e-03 2.35670388e-03]\n",
       " [7.50858773e-02 7.50858804e-02 5.30937031e-02 3.06539153e-02\n",
       "  1.53253712e-02 6.86197771e-03 2.76532136e-03 1.17822997e-03]\n",
       " [3.36199110e-02 3.36199124e-02 2.37728537e-02 1.37253761e-02\n",
       "  6.86197771e-03 3.07246966e-03 1.23818035e-03 5.27555757e-04]\n",
       " [1.35485515e-02 1.35485520e-02 9.58026722e-03 5.53121524e-03\n",
       "  2.76532136e-03 1.23818035e-03 4.98976640e-04 2.12600691e-04]\n",
       " [5.77267786e-03 5.77267810e-03 4.08189737e-03 2.35670388e-03\n",
       "  1.17822997e-03 5.27555757e-04 2.12600691e-04 9.05835068e-05]]"
      ]
     },
     "execution_count": 18,
     "metadata": {},
     "output_type": "execute_result"
    }
   ],
   "source": [
    "# coherent state as density matrix\n",
    "coherent_dm(N=8, alpha=1.0)"
   ]
  },
  {
   "cell_type": "markdown",
   "id": "f2123064",
   "metadata": {},
   "source": [
    "#### Thermal State\n",
    "$$\\rho = \\sum_{n} \\frac{\\bar{n}^n}{(1 + \\bar{n})^{n+1}}|n\\rangle \\langle n |$$"
   ]
  },
  {
   "cell_type": "code",
   "execution_count": 20,
   "id": "bcff0ba9",
   "metadata": {},
   "outputs": [
    {
     "data": {
      "text/latex": [
       "Quantum object: dims = [[8], [8]], shape = (8, 8), type = oper, isherm = True $ \\\\ \\left(\\begin{matrix}0.502 & 0.0 & 0.0 & 0.0 & 0.0 & 0.0 & 0.0 & 0.0\\\\0.0 & 0.251 & 0.0 & 0.0 & 0.0 & 0.0 & 0.0 & 0.0\\\\0.0 & 0.0 & 0.125 & 0.0 & 0.0 & 0.0 & 0.0 & 0.0\\\\0.0 & 0.0 & 0.0 & 0.063 & 0.0 & 0.0 & 0.0 & 0.0\\\\0.0 & 0.0 & 0.0 & 0.0 & 0.031 & 0.0 & 0.0 & 0.0\\\\0.0 & 0.0 & 0.0 & 0.0 & 0.0 & 0.016 & 0.0 & 0.0\\\\0.0 & 0.0 & 0.0 & 0.0 & 0.0 & 0.0 & 0.008 & 0.0\\\\0.0 & 0.0 & 0.0 & 0.0 & 0.0 & 0.0 & 0.0 & 0.004\\\\\\end{matrix}\\right)$"
      ],
      "text/plain": [
       "Quantum object: dims = [[8], [8]], shape = (8, 8), type = oper, isherm = True\n",
       "Qobj data =\n",
       "[[0.50196078 0.         0.         0.         0.         0.\n",
       "  0.         0.        ]\n",
       " [0.         0.25098039 0.         0.         0.         0.\n",
       "  0.         0.        ]\n",
       " [0.         0.         0.1254902  0.         0.         0.\n",
       "  0.         0.        ]\n",
       " [0.         0.         0.         0.0627451  0.         0.\n",
       "  0.         0.        ]\n",
       " [0.         0.         0.         0.         0.03137255 0.\n",
       "  0.         0.        ]\n",
       " [0.         0.         0.         0.         0.         0.01568627\n",
       "  0.         0.        ]\n",
       " [0.         0.         0.         0.         0.         0.\n",
       "  0.00784314 0.        ]\n",
       " [0.         0.         0.         0.         0.         0.\n",
       "  0.         0.00392157]]"
      ]
     },
     "execution_count": 20,
     "metadata": {},
     "output_type": "execute_result"
    }
   ],
   "source": [
    "# thermal state\n",
    "n = 1  # average number of thermal photons\n",
    "thermal_dm(8, n)"
   ]
  },
  {
   "cell_type": "markdown",
   "id": "8a5c8f24",
   "metadata": {},
   "source": [
    "## Operators"
   ]
  },
  {
   "cell_type": "markdown",
   "id": "3d3a8116",
   "metadata": {},
   "source": [
    "### Qubit (two-level system) operators: $\\hat{\\sigma}_x$,  $\\hat{\\sigma}_y$,  $\\hat{\\sigma}_z$"
   ]
  },
  {
   "cell_type": "code",
   "execution_count": 68,
   "id": "6cc11878",
   "metadata": {},
   "outputs": [
    {
     "data": {
      "text/latex": [
       "Quantum object: dims = [[2], [2]], shape = (2, 2), type = oper, isherm = True $ \\\\ \\left(\\begin{matrix}0.0 & 1.0\\\\1.0 & 0.0\\\\\\end{matrix}\\right)$"
      ],
      "text/plain": [
       "Quantum object: dims = [[2], [2]], shape = (2, 2), type = oper, isherm = True\n",
       "Qobj data =\n",
       "[[0. 1.]\n",
       " [1. 0.]]"
      ]
     },
     "execution_count": 68,
     "metadata": {},
     "output_type": "execute_result"
    }
   ],
   "source": [
    "# Pauli sigma x\n",
    "sigmax()"
   ]
  },
  {
   "cell_type": "code",
   "execution_count": 69,
   "id": "ab412bba",
   "metadata": {},
   "outputs": [
    {
     "data": {
      "text/latex": [
       "Quantum object: dims = [[2], [2]], shape = (2, 2), type = oper, isherm = True $ \\\\ \\left(\\begin{matrix}0.0 & -1.0j\\\\1.0j & 0.0\\\\\\end{matrix}\\right)$"
      ],
      "text/plain": [
       "Quantum object: dims = [[2], [2]], shape = (2, 2), type = oper, isherm = True\n",
       "Qobj data =\n",
       "[[0.+0.j 0.-1.j]\n",
       " [0.+1.j 0.+0.j]]"
      ]
     },
     "execution_count": 69,
     "metadata": {},
     "output_type": "execute_result"
    }
   ],
   "source": [
    "# Pauli sigma y\n",
    "sigmay()"
   ]
  },
  {
   "cell_type": "code",
   "execution_count": 70,
   "id": "f6221617",
   "metadata": {},
   "outputs": [
    {
     "data": {
      "text/latex": [
       "Quantum object: dims = [[2], [2]], shape = (2, 2), type = oper, isherm = True $ \\\\ \\left(\\begin{matrix}1.0 & 0.0\\\\0.0 & -1.0\\\\\\end{matrix}\\right)$"
      ],
      "text/plain": [
       "Quantum object: dims = [[2], [2]], shape = (2, 2), type = oper, isherm = True\n",
       "Qobj data =\n",
       "[[ 1.  0.]\n",
       " [ 0. -1.]]"
      ]
     },
     "execution_count": 70,
     "metadata": {},
     "output_type": "execute_result"
    }
   ],
   "source": [
    "# Pauli sigma z\n",
    "sigmaz()"
   ]
  },
  {
   "cell_type": "markdown",
   "id": "540956b6",
   "metadata": {},
   "source": [
    "### Harmonic Oscillator operaters"
   ]
  },
  {
   "cell_type": "markdown",
   "id": "3d3ba007",
   "metadata": {},
   "source": [
    "$\\hat{a}$"
   ]
  },
  {
   "cell_type": "code",
   "execution_count": 24,
   "id": "6da41ee3",
   "metadata": {},
   "outputs": [
    {
     "data": {
      "text/latex": [
       "Quantum object: dims = [[8], [8]], shape = (8, 8), type = oper, isherm = False $ \\\\ \\left(\\begin{matrix}0.0 & 1.0 & 0.0 & 0.0 & 0.0 & 0.0 & 0.0 & 0.0\\\\0.0 & 0.0 & 1.414 & 0.0 & 0.0 & 0.0 & 0.0 & 0.0\\\\0.0 & 0.0 & 0.0 & 1.732 & 0.0 & 0.0 & 0.0 & 0.0\\\\0.0 & 0.0 & 0.0 & 0.0 & 2.0 & 0.0 & 0.0 & 0.0\\\\0.0 & 0.0 & 0.0 & 0.0 & 0.0 & 2.236 & 0.0 & 0.0\\\\0.0 & 0.0 & 0.0 & 0.0 & 0.0 & 0.0 & 2.449 & 0.0\\\\0.0 & 0.0 & 0.0 & 0.0 & 0.0 & 0.0 & 0.0 & 2.646\\\\0.0 & 0.0 & 0.0 & 0.0 & 0.0 & 0.0 & 0.0 & 0.0\\\\\\end{matrix}\\right)$"
      ],
      "text/plain": [
       "Quantum object: dims = [[8], [8]], shape = (8, 8), type = oper, isherm = False\n",
       "Qobj data =\n",
       "[[0.         1.         0.         0.         0.         0.\n",
       "  0.         0.        ]\n",
       " [0.         0.         1.41421356 0.         0.         0.\n",
       "  0.         0.        ]\n",
       " [0.         0.         0.         1.73205081 0.         0.\n",
       "  0.         0.        ]\n",
       " [0.         0.         0.         0.         2.         0.\n",
       "  0.         0.        ]\n",
       " [0.         0.         0.         0.         0.         2.23606798\n",
       "  0.         0.        ]\n",
       " [0.         0.         0.         0.         0.         0.\n",
       "  2.44948974 0.        ]\n",
       " [0.         0.         0.         0.         0.         0.\n",
       "  0.         2.64575131]\n",
       " [0.         0.         0.         0.         0.         0.\n",
       "  0.         0.        ]]"
      ]
     },
     "execution_count": 24,
     "metadata": {},
     "output_type": "execute_result"
    }
   ],
   "source": [
    "#  annihilation operator\n",
    "\n",
    "destroy(N=8)  # N = number of fock states included in the Hilbert space"
   ]
  },
  {
   "cell_type": "code",
   "execution_count": 25,
   "id": "ee991e86",
   "metadata": {},
   "outputs": [
    {
     "data": {
      "text/latex": [
       "Quantum object: dims = [[8], [8]], shape = (8, 8), type = oper, isherm = False $ \\\\ \\left(\\begin{matrix}0.0 & 0.0 & 0.0 & 0.0 & 0.0 & 0.0 & 0.0 & 0.0\\\\1.0 & 0.0 & 0.0 & 0.0 & 0.0 & 0.0 & 0.0 & 0.0\\\\0.0 & 1.414 & 0.0 & 0.0 & 0.0 & 0.0 & 0.0 & 0.0\\\\0.0 & 0.0 & 1.732 & 0.0 & 0.0 & 0.0 & 0.0 & 0.0\\\\0.0 & 0.0 & 0.0 & 2.0 & 0.0 & 0.0 & 0.0 & 0.0\\\\0.0 & 0.0 & 0.0 & 0.0 & 2.236 & 0.0 & 0.0 & 0.0\\\\0.0 & 0.0 & 0.0 & 0.0 & 0.0 & 2.449 & 0.0 & 0.0\\\\0.0 & 0.0 & 0.0 & 0.0 & 0.0 & 0.0 & 2.646 & 0.0\\\\\\end{matrix}\\right)$"
      ],
      "text/plain": [
       "Quantum object: dims = [[8], [8]], shape = (8, 8), type = oper, isherm = False\n",
       "Qobj data =\n",
       "[[0.         0.         0.         0.         0.         0.\n",
       "  0.         0.        ]\n",
       " [1.         0.         0.         0.         0.         0.\n",
       "  0.         0.        ]\n",
       " [0.         1.41421356 0.         0.         0.         0.\n",
       "  0.         0.        ]\n",
       " [0.         0.         1.73205081 0.         0.         0.\n",
       "  0.         0.        ]\n",
       " [0.         0.         0.         2.         0.         0.\n",
       "  0.         0.        ]\n",
       " [0.         0.         0.         0.         2.23606798 0.\n",
       "  0.         0.        ]\n",
       " [0.         0.         0.         0.         0.         2.44948974\n",
       "  0.         0.        ]\n",
       " [0.         0.         0.         0.         0.         0.\n",
       "  2.64575131 0.        ]]"
      ]
     },
     "execution_count": 25,
     "metadata": {},
     "output_type": "execute_result"
    }
   ],
   "source": [
    "# creation operator\n",
    "\n",
    "create(N=8)  # equivalent to destroy(5).dag()"
   ]
  },
  {
   "cell_type": "code",
   "execution_count": 71,
   "id": "501670fc",
   "metadata": {},
   "outputs": [
    {
     "data": {
      "text/latex": [
       "Quantum object: dims = [[8], [8]], shape = (8, 8), type = oper, isherm = False $ \\\\ \\left(\\begin{matrix}0.0 & 0.0 & 0.0 & 0.0 & 0.0 & 0.0 & 0.0 & 0.0\\\\1.0 & 0.0 & 0.0 & 0.0 & 0.0 & 0.0 & 0.0 & 0.0\\\\0.0 & 1.414 & 0.0 & 0.0 & 0.0 & 0.0 & 0.0 & 0.0\\\\0.0 & 0.0 & 1.732 & 0.0 & 0.0 & 0.0 & 0.0 & 0.0\\\\0.0 & 0.0 & 0.0 & 2.0 & 0.0 & 0.0 & 0.0 & 0.0\\\\0.0 & 0.0 & 0.0 & 0.0 & 2.236 & 0.0 & 0.0 & 0.0\\\\0.0 & 0.0 & 0.0 & 0.0 & 0.0 & 2.449 & 0.0 & 0.0\\\\0.0 & 0.0 & 0.0 & 0.0 & 0.0 & 0.0 & 2.646 & 0.0\\\\\\end{matrix}\\right)$"
      ],
      "text/plain": [
       "Quantum object: dims = [[8], [8]], shape = (8, 8), type = oper, isherm = False\n",
       "Qobj data =\n",
       "[[0.         0.         0.         0.         0.         0.\n",
       "  0.         0.        ]\n",
       " [1.         0.         0.         0.         0.         0.\n",
       "  0.         0.        ]\n",
       " [0.         1.41421356 0.         0.         0.         0.\n",
       "  0.         0.        ]\n",
       " [0.         0.         1.73205081 0.         0.         0.\n",
       "  0.         0.        ]\n",
       " [0.         0.         0.         2.         0.         0.\n",
       "  0.         0.        ]\n",
       " [0.         0.         0.         0.         2.23606798 0.\n",
       "  0.         0.        ]\n",
       " [0.         0.         0.         0.         0.         2.44948974\n",
       "  0.         0.        ]\n",
       " [0.         0.         0.         0.         0.         0.\n",
       "  2.64575131 0.        ]]"
      ]
     },
     "execution_count": 71,
     "metadata": {},
     "output_type": "execute_result"
    }
   ],
   "source": [
    "a = destroy(N = 8)\n",
    "a.dag()"
   ]
  },
  {
   "cell_type": "code",
   "execution_count": 73,
   "id": "54dec95c",
   "metadata": {},
   "outputs": [
    {
     "data": {
      "text/latex": [
       "Quantum object: dims = [[8], [8]], shape = (8, 8), type = oper, isherm = True $ \\\\ \\left(\\begin{matrix}0.0 & 0.0 & 0.0 & 0.0 & 0.0 & 0.0 & 0.0 & 0.0\\\\0.0 & 1.0 & 0.0 & 0.0 & 0.0 & 0.0 & 0.0 & 0.0\\\\0.0 & 0.0 & 2.0 & 0.0 & 0.0 & 0.0 & 0.0 & 0.0\\\\0.0 & 0.0 & 0.0 & 3.000 & 0.0 & 0.0 & 0.0 & 0.0\\\\0.0 & 0.0 & 0.0 & 0.0 & 4.0 & 0.0 & 0.0 & 0.0\\\\0.0 & 0.0 & 0.0 & 0.0 & 0.0 & 5.0 & 0.0 & 0.0\\\\0.0 & 0.0 & 0.0 & 0.0 & 0.0 & 0.0 & 6.000 & 0.0\\\\0.0 & 0.0 & 0.0 & 0.0 & 0.0 & 0.0 & 0.0 & 7.0\\\\\\end{matrix}\\right)$"
      ],
      "text/plain": [
       "Quantum object: dims = [[8], [8]], shape = (8, 8), type = oper, isherm = True\n",
       "Qobj data =\n",
       "[[0. 0. 0. 0. 0. 0. 0. 0.]\n",
       " [0. 1. 0. 0. 0. 0. 0. 0.]\n",
       " [0. 0. 2. 0. 0. 0. 0. 0.]\n",
       " [0. 0. 0. 3. 0. 0. 0. 0.]\n",
       " [0. 0. 0. 0. 4. 0. 0. 0.]\n",
       " [0. 0. 0. 0. 0. 5. 0. 0.]\n",
       " [0. 0. 0. 0. 0. 0. 6. 0.]\n",
       " [0. 0. 0. 0. 0. 0. 0. 7.]]"
      ]
     },
     "execution_count": 73,
     "metadata": {},
     "output_type": "execute_result"
    }
   ],
   "source": [
    "# photon number operator\n",
    "n = a.dag() * a\n",
    "n"
   ]
  },
  {
   "cell_type": "markdown",
   "id": "4e4b95a5",
   "metadata": {},
   "source": [
    "#### Position Operator\n",
    "$$\\hat{x} = \\sqrt{\\frac{\\hbar}{2m\\omega}}({\\hat{a} + \\hat{a}^\\dagger})$$"
   ]
  },
  {
   "cell_type": "code",
   "execution_count": 74,
   "id": "a23a0dcf",
   "metadata": {},
   "outputs": [
    {
     "data": {
      "text/latex": [
       "Quantum object: dims = [[8], [8]], shape = (8, 8), type = oper, isherm = True $ \\\\ \\left(\\begin{matrix}0.0 & 0.707 & 0.0 & 0.0 & 0.0 & 0.0 & 0.0 & 0.0\\\\0.707 & 0.0 & 1.0 & 0.0 & 0.0 & 0.0 & 0.0 & 0.0\\\\0.0 & 1.0 & 0.0 & 1.225 & 0.0 & 0.0 & 0.0 & 0.0\\\\0.0 & 0.0 & 1.225 & 0.0 & 1.414 & 0.0 & 0.0 & 0.0\\\\0.0 & 0.0 & 0.0 & 1.414 & 0.0 & 1.581 & 0.0 & 0.0\\\\0.0 & 0.0 & 0.0 & 0.0 & 1.581 & 0.0 & 1.732 & 0.0\\\\0.0 & 0.0 & 0.0 & 0.0 & 0.0 & 1.732 & 0.0 & 1.871\\\\0.0 & 0.0 & 0.0 & 0.0 & 0.0 & 0.0 & 1.871 & 0.0\\\\\\end{matrix}\\right)$"
      ],
      "text/plain": [
       "Quantum object: dims = [[8], [8]], shape = (8, 8), type = oper, isherm = True\n",
       "Qobj data =\n",
       "[[0.         0.70710678 0.         0.         0.         0.\n",
       "  0.         0.        ]\n",
       " [0.70710678 0.         1.         0.         0.         0.\n",
       "  0.         0.        ]\n",
       " [0.         1.         0.         1.22474487 0.         0.\n",
       "  0.         0.        ]\n",
       " [0.         0.         1.22474487 0.         1.41421356 0.\n",
       "  0.         0.        ]\n",
       " [0.         0.         0.         1.41421356 0.         1.58113883\n",
       "  0.         0.        ]\n",
       " [0.         0.         0.         0.         1.58113883 0.\n",
       "  1.73205081 0.        ]\n",
       " [0.         0.         0.         0.         0.         1.73205081\n",
       "  0.         1.87082869]\n",
       " [0.         0.         0.         0.         0.         0.\n",
       "  1.87082869 0.        ]]"
      ]
     },
     "execution_count": 74,
     "metadata": {},
     "output_type": "execute_result"
    }
   ],
   "source": [
    "# the position operator is easily constructed from the annihilation operator\n",
    "a = destroy(8)\n",
    "\n",
    "x = (a + a.dag())/ np.sqrt(2)\n",
    "\n",
    "x"
   ]
  },
  {
   "cell_type": "code",
   "execution_count": 76,
   "id": "e735a95b",
   "metadata": {},
   "outputs": [
    {
     "data": {
      "text/plain": [
       "True"
      ]
     },
     "execution_count": 76,
     "metadata": {},
     "output_type": "execute_result"
    }
   ],
   "source": [
    "x.dag() == x"
   ]
  },
  {
   "cell_type": "markdown",
   "id": "9c60e389",
   "metadata": {},
   "source": [
    "#### Momentum Operator\n",
    "$$\\hat{p} =-i \\sqrt{\\frac{\\hbar m\\omega}{2}}({\\hat{a} - \\hat{a}^\\dagger})$$"
   ]
  },
  {
   "cell_type": "code",
   "execution_count": 77,
   "id": "dbc1d235",
   "metadata": {},
   "outputs": [
    {
     "data": {
      "text/latex": [
       "Quantum object: dims = [[8], [8]], shape = (8, 8), type = oper, isherm = True $ \\\\ \\left(\\begin{matrix}0.0 & -0.707j & 0.0 & 0.0 & 0.0 & 0.0 & 0.0 & 0.0\\\\0.707j & 0.0 & -1.0j & 0.0 & 0.0 & 0.0 & 0.0 & 0.0\\\\0.0 & 1.0j & 0.0 & -1.225j & 0.0 & 0.0 & 0.0 & 0.0\\\\0.0 & 0.0 & 1.225j & 0.0 & -1.414j & 0.0 & 0.0 & 0.0\\\\0.0 & 0.0 & 0.0 & 1.414j & 0.0 & -1.581j & 0.0 & 0.0\\\\0.0 & 0.0 & 0.0 & 0.0 & 1.581j & 0.0 & -1.732j & 0.0\\\\0.0 & 0.0 & 0.0 & 0.0 & 0.0 & 1.732j & 0.0 & -1.871j\\\\0.0 & 0.0 & 0.0 & 0.0 & 0.0 & 0.0 & 1.871j & 0.0\\\\\\end{matrix}\\right)$"
      ],
      "text/plain": [
       "Quantum object: dims = [[8], [8]], shape = (8, 8), type = oper, isherm = True\n",
       "Qobj data =\n",
       "[[0.+0.j         0.-0.70710678j 0.+0.j         0.+0.j\n",
       "  0.+0.j         0.+0.j         0.+0.j         0.+0.j        ]\n",
       " [0.+0.70710678j 0.+0.j         0.-1.j         0.+0.j\n",
       "  0.+0.j         0.+0.j         0.+0.j         0.+0.j        ]\n",
       " [0.+0.j         0.+1.j         0.+0.j         0.-1.22474487j\n",
       "  0.+0.j         0.+0.j         0.+0.j         0.+0.j        ]\n",
       " [0.+0.j         0.+0.j         0.+1.22474487j 0.+0.j\n",
       "  0.-1.41421356j 0.+0.j         0.+0.j         0.+0.j        ]\n",
       " [0.+0.j         0.+0.j         0.+0.j         0.+1.41421356j\n",
       "  0.+0.j         0.-1.58113883j 0.+0.j         0.+0.j        ]\n",
       " [0.+0.j         0.+0.j         0.+0.j         0.+0.j\n",
       "  0.+1.58113883j 0.+0.j         0.-1.73205081j 0.+0.j        ]\n",
       " [0.+0.j         0.+0.j         0.+0.j         0.+0.j\n",
       "  0.+0.j         0.+1.73205081j 0.+0.j         0.-1.87082869j]\n",
       " [0.+0.j         0.+0.j         0.+0.j         0.+0.j\n",
       "  0.+0.j         0.+0.j         0.+1.87082869j 0.+0.j        ]]"
      ]
     },
     "execution_count": 77,
     "metadata": {},
     "output_type": "execute_result"
    }
   ],
   "source": [
    "# the momentum operator is easily constructed from the annihilation operator\n",
    "p = (a - a.dag())/ np.sqrt(2) / 1j\n",
    "\n",
    "p"
   ]
  },
  {
   "cell_type": "markdown",
   "id": "10935d07",
   "metadata": {},
   "source": [
    "#### Commutation Relation"
   ]
  },
  {
   "cell_type": "markdown",
   "id": "111a8bc5",
   "metadata": {},
   "source": [
    "$$[\\hat{a}, \\hat{a}^\\dagger] = 1 $$"
   ]
  },
  {
   "cell_type": "code",
   "execution_count": 29,
   "id": "e3df0e50",
   "metadata": {},
   "outputs": [
    {
     "data": {
      "text/latex": [
       "Quantum object: dims = [[8], [8]], shape = (8, 8), type = oper, isherm = True $ \\\\ \\left(\\begin{matrix}1.0 & 0.0 & 0.0 & 0.0 & 0.0 & 0.0 & 0.0 & 0.0\\\\0.0 & 1.0 & 0.0 & 0.0 & 0.0 & 0.0 & 0.0 & 0.0\\\\0.0 & 0.0 & 1.000 & 0.0 & 0.0 & 0.0 & 0.0 & 0.0\\\\0.0 & 0.0 & 0.0 & 1.0 & 0.0 & 0.0 & 0.0 & 0.0\\\\0.0 & 0.0 & 0.0 & 0.0 & 1.0 & 0.0 & 0.0 & 0.0\\\\0.0 & 0.0 & 0.0 & 0.0 & 0.0 & 1.000 & 0.0 & 0.0\\\\0.0 & 0.0 & 0.0 & 0.0 & 0.0 & 0.0 & 1.0 & 0.0\\\\0.0 & 0.0 & 0.0 & 0.0 & 0.0 & 0.0 & 0.0 & -7.0\\\\\\end{matrix}\\right)$"
      ],
      "text/plain": [
       "Quantum object: dims = [[8], [8]], shape = (8, 8), type = oper, isherm = True\n",
       "Qobj data =\n",
       "[[ 1.  0.  0.  0.  0.  0.  0.  0.]\n",
       " [ 0.  1.  0.  0.  0.  0.  0.  0.]\n",
       " [ 0.  0.  1.  0.  0.  0.  0.  0.]\n",
       " [ 0.  0.  0.  1.  0.  0.  0.  0.]\n",
       " [ 0.  0.  0.  0.  1.  0.  0.  0.]\n",
       " [ 0.  0.  0.  0.  0.  1.  0.  0.]\n",
       " [ 0.  0.  0.  0.  0.  0.  1.  0.]\n",
       " [ 0.  0.  0.  0.  0.  0.  0. -7.]]"
      ]
     },
     "execution_count": 29,
     "metadata": {},
     "output_type": "execute_result"
    }
   ],
   "source": [
    "commutator(a, a.dag())"
   ]
  },
  {
   "cell_type": "markdown",
   "id": "32c15684",
   "metadata": {},
   "source": [
    "-7 at the lower diagonal is due to the truncated Hilbert space"
   ]
  },
  {
   "cell_type": "code",
   "execution_count": 81,
   "id": "b3425b27",
   "metadata": {},
   "outputs": [
    {
     "name": "stdout",
     "output_type": "stream",
     "text": [
      "1.47 ms ± 87.9 µs per loop (mean ± std. dev. of 7 runs, 1,000 loops each)\n"
     ]
    }
   ],
   "source": [
    "a = destroy(10000)\n",
    "%timeit commutator(a, a.dag())"
   ]
  },
  {
   "cell_type": "markdown",
   "id": "4ab839ef",
   "metadata": {},
   "source": [
    "Sparse Matrix"
   ]
  },
  {
   "cell_type": "code",
   "execution_count": 82,
   "id": "123c59ad",
   "metadata": {},
   "outputs": [
    {
     "name": "stdout",
     "output_type": "stream",
     "text": [
      "344 µs ± 11.3 µs per loop (mean ± std. dev. of 7 runs, 1,000 loops each)\n"
     ]
    }
   ],
   "source": [
    "a = destroy(100)\n",
    "%timeit commutator(a, a.dag())"
   ]
  },
  {
   "cell_type": "markdown",
   "id": "a1ff2e45",
   "metadata": {},
   "source": [
    "$$[\\hat{x}, \\hat{p}] = i\\hbar $$"
   ]
  },
  {
   "cell_type": "code",
   "execution_count": 85,
   "id": "573fea04",
   "metadata": {},
   "outputs": [
    {
     "data": {
      "text/plain": [
       "1j"
      ]
     },
     "execution_count": 85,
     "metadata": {},
     "output_type": "execute_result"
    }
   ],
   "source": [
    "1j"
   ]
  },
  {
   "cell_type": "code",
   "execution_count": 84,
   "id": "6a792c07",
   "metadata": {},
   "outputs": [
    {
     "data": {
      "text/latex": [
       "Quantum object: dims = [[8], [8]], shape = (8, 8), type = oper, isherm = False $ \\\\ \\left(\\begin{matrix}1.000j & 0.0 & 0.0 & 0.0 & 0.0 & 0.0 & 0.0 & 0.0\\\\0.0 & 1.0j & 0.0 & 0.0 & 0.0 & 0.0 & 0.0 & 0.0\\\\0.0 & 0.0 & 1.000j & 0.0 & 0.0 & 0.0 & 0.0 & 0.0\\\\0.0 & 0.0 & 0.0 & 1.000j & 0.0 & 0.0 & 0.0 & 0.0\\\\0.0 & 0.0 & 0.0 & 0.0 & 1.0j & 0.0 & 0.0 & 0.0\\\\0.0 & 0.0 & 0.0 & 0.0 & 0.0 & 1.000j & 0.0 & 0.0\\\\0.0 & 0.0 & 0.0 & 0.0 & 0.0 & 0.0 & 1.0j & 0.0\\\\0.0 & 0.0 & 0.0 & 0.0 & 0.0 & 0.0 & 0.0 & -7.0j\\\\\\end{matrix}\\right)$"
      ],
      "text/plain": [
       "Quantum object: dims = [[8], [8]], shape = (8, 8), type = oper, isherm = False\n",
       "Qobj data =\n",
       "[[0.+1.j 0.+0.j 0.+0.j 0.+0.j 0.+0.j 0.+0.j 0.+0.j 0.+0.j]\n",
       " [0.+0.j 0.+1.j 0.+0.j 0.+0.j 0.+0.j 0.+0.j 0.+0.j 0.+0.j]\n",
       " [0.+0.j 0.+0.j 0.+1.j 0.+0.j 0.+0.j 0.+0.j 0.+0.j 0.+0.j]\n",
       " [0.+0.j 0.+0.j 0.+0.j 0.+1.j 0.+0.j 0.+0.j 0.+0.j 0.+0.j]\n",
       " [0.+0.j 0.+0.j 0.+0.j 0.+0.j 0.+1.j 0.+0.j 0.+0.j 0.+0.j]\n",
       " [0.+0.j 0.+0.j 0.+0.j 0.+0.j 0.+0.j 0.+1.j 0.+0.j 0.+0.j]\n",
       " [0.+0.j 0.+0.j 0.+0.j 0.+0.j 0.+0.j 0.+0.j 0.+1.j 0.+0.j]\n",
       " [0.+0.j 0.+0.j 0.+0.j 0.+0.j 0.+0.j 0.+0.j 0.+0.j 0.-7.j]]"
      ]
     },
     "execution_count": 84,
     "metadata": {},
     "output_type": "execute_result"
    }
   ],
   "source": [
    "commutator(x, p)"
   ]
  },
  {
   "cell_type": "markdown",
   "id": "832e520c",
   "metadata": {},
   "source": [
    "#### Pauli spin inequalities\n",
    "$$[\\hat{\\sigma}_x, \\hat{\\sigma}_y] = 2i\\hat{\\sigma}_z$$"
   ]
  },
  {
   "cell_type": "code",
   "execution_count": 86,
   "id": "7da4a585",
   "metadata": {},
   "outputs": [
    {
     "data": {
      "text/latex": [
       "Quantum object: dims = [[2], [2]], shape = (2, 2), type = oper, isherm = True $ \\\\ \\left(\\begin{matrix}0.0 & 0.0\\\\0.0 & 0.0\\\\\\end{matrix}\\right)$"
      ],
      "text/plain": [
       "Quantum object: dims = [[2], [2]], shape = (2, 2), type = oper, isherm = True\n",
       "Qobj data =\n",
       "[[0. 0.]\n",
       " [0. 0.]]"
      ]
     },
     "execution_count": 86,
     "metadata": {},
     "output_type": "execute_result"
    }
   ],
   "source": [
    "commutator(sigmax(), sigmay()) - 2j * sigmaz()"
   ]
  },
  {
   "cell_type": "markdown",
   "id": "f637599a",
   "metadata": {},
   "source": [
    "$$-i\\hat{\\sigma}_x\\hat{\\sigma}_y\\hat{\\sigma}_z = 1$$"
   ]
  },
  {
   "cell_type": "code",
   "execution_count": 87,
   "id": "1911f21b",
   "metadata": {},
   "outputs": [
    {
     "data": {
      "text/latex": [
       "Quantum object: dims = [[2], [2]], shape = (2, 2), type = oper, isherm = True $ \\\\ \\left(\\begin{matrix}1.0 & 0.0\\\\0.0 & 1.0\\\\\\end{matrix}\\right)$"
      ],
      "text/plain": [
       "Quantum object: dims = [[2], [2]], shape = (2, 2), type = oper, isherm = True\n",
       "Qobj data =\n",
       "[[1. 0.]\n",
       " [0. 1.]]"
      ]
     },
     "execution_count": 87,
     "metadata": {},
     "output_type": "execute_result"
    }
   ],
   "source": [
    "-1j * sigmax() * sigmay() * sigmaz()"
   ]
  },
  {
   "cell_type": "markdown",
   "id": "aacfda97",
   "metadata": {},
   "source": [
    "$$\\hat{\\sigma}_x^2 = \\hat{\\sigma}_y^2 = \\hat{\\sigma}_z^2 = 1$$"
   ]
  },
  {
   "cell_type": "code",
   "execution_count": 88,
   "id": "74478dfa",
   "metadata": {},
   "outputs": [
    {
     "data": {
      "text/latex": [
       "Quantum object: dims = [[10], [10]], shape = (10, 10), type = oper, isherm = True $ \\\\ \\left(\\begin{matrix}1.0 & 0.0 & 0.0 & 0.0 & 0.0 & 0.0 & 0.0 & 0.0 & 0.0 & 0.0\\\\0.0 & 1.0 & 0.0 & 0.0 & 0.0 & 0.0 & 0.0 & 0.0 & 0.0 & 0.0\\\\0.0 & 0.0 & 1.0 & 0.0 & 0.0 & 0.0 & 0.0 & 0.0 & 0.0 & 0.0\\\\0.0 & 0.0 & 0.0 & 1.0 & 0.0 & 0.0 & 0.0 & 0.0 & 0.0 & 0.0\\\\0.0 & 0.0 & 0.0 & 0.0 & 1.0 & 0.0 & 0.0 & 0.0 & 0.0 & 0.0\\\\0.0 & 0.0 & 0.0 & 0.0 & 0.0 & 1.0 & 0.0 & 0.0 & 0.0 & 0.0\\\\0.0 & 0.0 & 0.0 & 0.0 & 0.0 & 0.0 & 1.0 & 0.0 & 0.0 & 0.0\\\\0.0 & 0.0 & 0.0 & 0.0 & 0.0 & 0.0 & 0.0 & 1.0 & 0.0 & 0.0\\\\0.0 & 0.0 & 0.0 & 0.0 & 0.0 & 0.0 & 0.0 & 0.0 & 1.0 & 0.0\\\\0.0 & 0.0 & 0.0 & 0.0 & 0.0 & 0.0 & 0.0 & 0.0 & 0.0 & 1.0\\\\\\end{matrix}\\right)$"
      ],
      "text/plain": [
       "Quantum object: dims = [[10], [10]], shape = (10, 10), type = oper, isherm = True\n",
       "Qobj data =\n",
       "[[1. 0. 0. 0. 0. 0. 0. 0. 0. 0.]\n",
       " [0. 1. 0. 0. 0. 0. 0. 0. 0. 0.]\n",
       " [0. 0. 1. 0. 0. 0. 0. 0. 0. 0.]\n",
       " [0. 0. 0. 1. 0. 0. 0. 0. 0. 0.]\n",
       " [0. 0. 0. 0. 1. 0. 0. 0. 0. 0.]\n",
       " [0. 0. 0. 0. 0. 1. 0. 0. 0. 0.]\n",
       " [0. 0. 0. 0. 0. 0. 1. 0. 0. 0.]\n",
       " [0. 0. 0. 0. 0. 0. 0. 1. 0. 0.]\n",
       " [0. 0. 0. 0. 0. 0. 0. 0. 1. 0.]\n",
       " [0. 0. 0. 0. 0. 0. 0. 0. 0. 1.]]"
      ]
     },
     "execution_count": 88,
     "metadata": {},
     "output_type": "execute_result"
    }
   ],
   "source": [
    "qeye(10)"
   ]
  },
  {
   "cell_type": "code",
   "execution_count": 89,
   "id": "457a3377",
   "metadata": {},
   "outputs": [
    {
     "data": {
      "text/plain": [
       "True"
      ]
     },
     "execution_count": 89,
     "metadata": {},
     "output_type": "execute_result"
    }
   ],
   "source": [
    "sigmax() ** 2 == sigmay() ** 2 == sigmaz() ** 2 == qeye(2)"
   ]
  },
  {
   "cell_type": "markdown",
   "id": "eb0af3ce",
   "metadata": {},
   "source": [
    "## Composite systems"
   ]
  },
  {
   "cell_type": "markdown",
   "id": "139fda81",
   "metadata": {},
   "source": [
    "In most cases we are interested in coupled quantum systems, for example coupled qubits, a qubit coupled to a cavity (oscillator mode), etc.\n",
    "\n",
    "To define states and operators for such systems in QuTiP, we use the `tensor` function to create `Qobj` instances for the composite system.\n",
    "\n",
    "For example, consider a system composed of two qubits. If we want to create a Pauli $\\sigma_z$\n",
    " operator that acts on the first qubit and leaves the second qubit unaffected (i.e., the operator $\\sigma_z\\otimes1$\n",
    "), we would do:"
   ]
  },
  {
   "cell_type": "code",
   "execution_count": 90,
   "id": "b6cf116d",
   "metadata": {},
   "outputs": [
    {
     "data": {
      "text/latex": [
       "Quantum object: dims = [[2, 2], [2, 2]], shape = (4, 4), type = oper, isherm = True $ \\\\ \\left(\\begin{matrix}1.0 & 0.0 & 0.0 & 0.0\\\\0.0 & 1.0 & 0.0 & 0.0\\\\0.0 & 0.0 & -1.0 & 0.0\\\\0.0 & 0.0 & 0.0 & -1.0\\\\\\end{matrix}\\right)$"
      ],
      "text/plain": [
       "Quantum object: dims = [[2, 2], [2, 2]], shape = (4, 4), type = oper, isherm = True\n",
       "Qobj data =\n",
       "[[ 1.  0.  0.  0.]\n",
       " [ 0.  1.  0.  0.]\n",
       " [ 0.  0. -1.  0.]\n",
       " [ 0.  0.  0. -1.]]"
      ]
     },
     "execution_count": 90,
     "metadata": {},
     "output_type": "execute_result"
    }
   ],
   "source": [
    "sz1 = tensor(sigmaz(), qeye(2))\n",
    "\n",
    "sz1"
   ]
  },
  {
   "cell_type": "markdown",
   "id": "b8001ba9",
   "metadata": {},
   "source": [
    "We can easily verify that this two-qubit operator does indeed have the desired properties:\n",
    "$$|\\psi_1\\rangle = |1\\rangle \\otimes |0\\rangle$$\n",
    "$$|\\psi_2\\rangle = |0\\rangle \\otimes |1\\rangle$$"
   ]
  },
  {
   "cell_type": "code",
   "execution_count": 91,
   "id": "01ec8b57",
   "metadata": {},
   "outputs": [],
   "source": [
    "psi1 = tensor(basis(N, 1), basis(N, 0))  # excited first qubit\n",
    "psi2 = tensor(basis(N, 0), basis(N, 1))  # excited second qubit"
   ]
  },
  {
   "cell_type": "code",
   "execution_count": 101,
   "id": "820e79a0",
   "metadata": {},
   "outputs": [
    {
     "data": {
      "text/latex": [
       "Quantum object: dims = [[2, 2], [1, 1]], shape = (4, 1), type = ket $ \\\\ \\left(\\begin{matrix}0.0\\\\0.0\\\\0.0\\\\1.0\\\\\\end{matrix}\\right)$"
      ],
      "text/plain": [
       "Quantum object: dims = [[2, 2], [1, 1]], shape = (4, 1), type = ket\n",
       "Qobj data =\n",
       "[[0.]\n",
       " [0.]\n",
       " [0.]\n",
       " [1.]]"
      ]
     },
     "execution_count": 101,
     "metadata": {},
     "output_type": "execute_result"
    }
   ],
   "source": [
    "tensor(basis(N, 1), basis(N, 1)) "
   ]
  },
  {
   "cell_type": "code",
   "execution_count": 103,
   "id": "119f0590",
   "metadata": {},
   "outputs": [
    {
     "data": {
      "text/plain": [
       "True"
      ]
     },
     "execution_count": 103,
     "metadata": {},
     "output_type": "execute_result"
    }
   ],
   "source": [
    "# this should not be true,\n",
    "# because sz1 should flip the sign of the excited state of psi1\n",
    "sz1 * psi1 == - psi1"
   ]
  },
  {
   "cell_type": "code",
   "execution_count": 36,
   "id": "d9d84f44",
   "metadata": {},
   "outputs": [
    {
     "data": {
      "text/plain": [
       "True"
      ]
     },
     "execution_count": 36,
     "metadata": {},
     "output_type": "execute_result"
    }
   ],
   "source": [
    "# this should be true, because sz1 should leave psi2 unaffected\n",
    "sz1 * psi2 == psi2"
   ]
  },
  {
   "cell_type": "markdown",
   "id": "f0c4e9f0",
   "metadata": {},
   "source": [
    "Above we used the `qeye(N)` function, which generates the identity operator with `N` quantum states. If we want to do the same thing for the second qubit we can do:"
   ]
  },
  {
   "cell_type": "code",
   "execution_count": 37,
   "id": "57cfb31b",
   "metadata": {},
   "outputs": [
    {
     "data": {
      "text/latex": [
       "Quantum object: dims = [[2, 2], [2, 2]], shape = (4, 4), type = oper, isherm = True $ \\\\ \\left(\\begin{matrix}1.0 & 0.0 & 0.0 & 0.0\\\\0.0 & -1.0 & 0.0 & 0.0\\\\0.0 & 0.0 & 1.0 & 0.0\\\\0.0 & 0.0 & 0.0 & -1.0\\\\\\end{matrix}\\right)$"
      ],
      "text/plain": [
       "Quantum object: dims = [[2, 2], [2, 2]], shape = (4, 4), type = oper, isherm = True\n",
       "Qobj data =\n",
       "[[ 1.  0.  0.  0.]\n",
       " [ 0. -1.  0.  0.]\n",
       " [ 0.  0.  1.  0.]\n",
       " [ 0.  0.  0. -1.]]"
      ]
     },
     "execution_count": 37,
     "metadata": {},
     "output_type": "execute_result"
    }
   ],
   "source": [
    "sz2 = tensor(qeye(2), sigmaz())\n",
    "\n",
    "sz2"
   ]
  },
  {
   "cell_type": "code",
   "execution_count": 105,
   "id": "08eb13cd",
   "metadata": {},
   "outputs": [
    {
     "data": {
      "text/latex": [
       "Quantum object: dims = [[2, 2, 2], [2, 2, 2]], shape = (8, 8), type = oper, isherm = True $ \\\\ \\left(\\begin{matrix}0.0 & 0.0 & 0.0 & 0.0 & 0.0 & 0.0 & 0.0 & 1.0\\\\0.0 & 0.0 & 0.0 & 0.0 & 0.0 & 0.0 & 1.0 & 0.0\\\\0.0 & 0.0 & 0.0 & 0.0 & 0.0 & 1.0 & 0.0 & 0.0\\\\0.0 & 0.0 & 0.0 & 0.0 & 1.0 & 0.0 & 0.0 & 0.0\\\\0.0 & 0.0 & 0.0 & 1.0 & 0.0 & 0.0 & 0.0 & 0.0\\\\0.0 & 0.0 & 1.0 & 0.0 & 0.0 & 0.0 & 0.0 & 0.0\\\\0.0 & 1.0 & 0.0 & 0.0 & 0.0 & 0.0 & 0.0 & 0.0\\\\1.0 & 0.0 & 0.0 & 0.0 & 0.0 & 0.0 & 0.0 & 0.0\\\\\\end{matrix}\\right)$"
      ],
      "text/plain": [
       "Quantum object: dims = [[2, 2, 2], [2, 2, 2]], shape = (8, 8), type = oper, isherm = True\n",
       "Qobj data =\n",
       "[[0. 0. 0. 0. 0. 0. 0. 1.]\n",
       " [0. 0. 0. 0. 0. 0. 1. 0.]\n",
       " [0. 0. 0. 0. 0. 1. 0. 0.]\n",
       " [0. 0. 0. 0. 1. 0. 0. 0.]\n",
       " [0. 0. 0. 1. 0. 0. 0. 0.]\n",
       " [0. 0. 1. 0. 0. 0. 0. 0.]\n",
       " [0. 1. 0. 0. 0. 0. 0. 0.]\n",
       " [1. 0. 0. 0. 0. 0. 0. 0.]]"
      ]
     },
     "execution_count": 105,
     "metadata": {},
     "output_type": "execute_result"
    }
   ],
   "source": [
    "tensor(sigmax(), sigmax(), sigmax())"
   ]
  },
  {
   "cell_type": "code",
   "execution_count": 114,
   "id": "06cccfb7",
   "metadata": {},
   "outputs": [
    {
     "data": {
      "text/latex": [
       "Quantum object: dims = [[2, 2, 2, 2, 2, 2, 2, 2, 2, 2], [2, 2, 2, 2, 2, 2, 2, 2, 2, 2]], shape = (1024, 1024), type = oper, isherm = True $ \\\\ \\left(\\begin{matrix}0.0 & 0.0 & 0.0 & 0.0 & 0.0 & \\cdots & 0.0 & 0.0 & 0.0 & 0.0 & 1.0\\\\0.0 & 0.0 & 0.0 & 0.0 & 0.0 & \\cdots & 0.0 & 0.0 & 0.0 & 1.0 & 0.0\\\\0.0 & 0.0 & 0.0 & 0.0 & 0.0 & \\cdots & 0.0 & 0.0 & 1.0 & 0.0 & 0.0\\\\0.0 & 0.0 & 0.0 & 0.0 & 0.0 & \\cdots & 0.0 & 1.0 & 0.0 & 0.0 & 0.0\\\\0.0 & 0.0 & 0.0 & 0.0 & 0.0 & \\cdots & 1.0 & 0.0 & 0.0 & 0.0 & 0.0\\\\\\vdots & \\vdots & \\vdots & \\vdots & \\vdots & \\ddots & \\vdots & \\vdots & \\vdots & \\vdots & \\vdots\\\\0.0 & 0.0 & 0.0 & 0.0 & 1.0 & \\cdots & 0.0 & 0.0 & 0.0 & 0.0 & 0.0\\\\0.0 & 0.0 & 0.0 & 1.0 & 0.0 & \\cdots & 0.0 & 0.0 & 0.0 & 0.0 & 0.0\\\\0.0 & 0.0 & 1.0 & 0.0 & 0.0 & \\cdots & 0.0 & 0.0 & 0.0 & 0.0 & 0.0\\\\0.0 & 1.0 & 0.0 & 0.0 & 0.0 & \\cdots & 0.0 & 0.0 & 0.0 & 0.0 & 0.0\\\\1.0 & 0.0 & 0.0 & 0.0 & 0.0 & \\cdots & 0.0 & 0.0 & 0.0 & 0.0 & 0.0\\\\\\end{matrix}\\right)$"
      ],
      "text/plain": [
       "Quantum object: dims = [[2, 2, 2, 2, 2, 2, 2, 2, 2, 2], [2, 2, 2, 2, 2, 2, 2, 2, 2, 2]], shape = (1024, 1024), type = oper, isherm = True\n",
       "Qobj data =\n",
       "[[0. 0. 0. ... 0. 0. 1.]\n",
       " [0. 0. 0. ... 0. 1. 0.]\n",
       " [0. 0. 0. ... 1. 0. 0.]\n",
       " ...\n",
       " [0. 0. 1. ... 0. 0. 0.]\n",
       " [0. 1. 0. ... 0. 0. 0.]\n",
       " [1. 0. 0. ... 0. 0. 0.]]"
      ]
     },
     "execution_count": 114,
     "metadata": {},
     "output_type": "execute_result"
    }
   ],
   "source": [
    "# 10 pauli x operators multiplied together\n",
    "tensor([sigmax() for n in range(10)])"
   ]
  },
  {
   "cell_type": "markdown",
   "id": "542acd4e",
   "metadata": {},
   "source": [
    "Note the order of the argument to the tensor function, and the correspondingly different matrix representation of the two operators `sz1` and `sz2`.\n",
    "\n",
    "Using the same method we can create coupling terms of the form $\\sigma_x\\otimes\\sigma_x$:"
   ]
  },
  {
   "cell_type": "code",
   "execution_count": 38,
   "id": "8c58454b",
   "metadata": {},
   "outputs": [
    {
     "data": {
      "text/latex": [
       "Quantum object: dims = [[2, 2], [2, 2]], shape = (4, 4), type = oper, isherm = True $ \\\\ \\left(\\begin{matrix}0.0 & 0.0 & 0.0 & 1.0\\\\0.0 & 0.0 & 1.0 & 0.0\\\\0.0 & 1.0 & 0.0 & 0.0\\\\1.0 & 0.0 & 0.0 & 0.0\\\\\\end{matrix}\\right)$"
      ],
      "text/plain": [
       "Quantum object: dims = [[2, 2], [2, 2]], shape = (4, 4), type = oper, isherm = True\n",
       "Qobj data =\n",
       "[[0. 0. 0. 1.]\n",
       " [0. 0. 1. 0.]\n",
       " [0. 1. 0. 0.]\n",
       " [1. 0. 0. 0.]]"
      ]
     },
     "execution_count": 38,
     "metadata": {},
     "output_type": "execute_result"
    }
   ],
   "source": [
    "tensor(sigmax(), sigmax())"
   ]
  },
  {
   "cell_type": "markdown",
   "id": "660f0eda",
   "metadata": {},
   "source": [
    "#### Coupled 2-qubit Hamiltonian"
   ]
  },
  {
   "cell_type": "markdown",
   "id": "d0aa7ef6",
   "metadata": {},
   "source": [
    "Now we are ready to create a `Qobj` representation of a coupled two-qubit Hamiltonian: \n",
    "$$\\hat{H} = \\frac{\\epsilon_1}{2} \\hat{\\sigma}_z^{(1)} + \\frac{\\epsilon_2}{2} \\hat{\\sigma}_z^{(2)} + g \\hat{\\sigma}_x^{(1)} \\hat{\\sigma}_x^{(2)}$$\n"
   ]
  },
  {
   "cell_type": "code",
   "execution_count": 115,
   "id": "b98e67d9",
   "metadata": {},
   "outputs": [
    {
     "data": {
      "text/latex": [
       "Quantum object: dims = [[2, 2], [2, 2]], shape = (4, 4), type = oper, isherm = True $ \\\\ \\left(\\begin{matrix}1.0 & 0.0 & 0.0 & 0.100\\\\0.0 & 0.0 & 0.100 & 0.0\\\\0.0 & 0.100 & 0.0 & 0.0\\\\0.100 & 0.0 & 0.0 & -1.0\\\\\\end{matrix}\\right)$"
      ],
      "text/plain": [
       "Quantum object: dims = [[2, 2], [2, 2]], shape = (4, 4), type = oper, isherm = True\n",
       "Qobj data =\n",
       "[[ 1.   0.   0.   0.1]\n",
       " [ 0.   0.   0.1  0. ]\n",
       " [ 0.   0.1  0.   0. ]\n",
       " [ 0.1  0.   0.  -1. ]]"
      ]
     },
     "execution_count": 115,
     "metadata": {},
     "output_type": "execute_result"
    }
   ],
   "source": [
    "epsilon = [1.0, 1.0]\n",
    "g = 0.1\n",
    "\n",
    "sz1 = tensor(sigmaz(), qeye(2))\n",
    "sz2 = tensor(qeye(2), sigmaz())\n",
    "\n",
    "H = epsilon[0]/2 * sz1 + epsilon[1]/2 * sz2 + g * tensor(sigmax(), sigmax())\n",
    "\n",
    "H"
   ]
  },
  {
   "cell_type": "code",
   "execution_count": 116,
   "id": "35e65854",
   "metadata": {},
   "outputs": [
    {
     "data": {
      "text/plain": [
       "array([-1.00498756, -0.1       ,  0.1       ,  1.00498756])"
      ]
     },
     "execution_count": 116,
     "metadata": {},
     "output_type": "execute_result"
    }
   ],
   "source": [
    "H.eigenenergies()"
   ]
  },
  {
   "cell_type": "code",
   "execution_count": 117,
   "id": "8d04b3f2",
   "metadata": {},
   "outputs": [
    {
     "data": {
      "text/plain": [
       "(array([-1.00498756, -0.1       ,  0.1       ,  1.00498756]),\n",
       " array([Quantum object: dims = [[2, 2], [1, 1]], shape = (4, 1), type = ket\n",
       "        Qobj data =\n",
       "        [[ 0.0498137 ]\n",
       "         [ 0.        ]\n",
       "         [ 0.        ]\n",
       "         [-0.99875853]]                                                    ,\n",
       "        Quantum object: dims = [[2, 2], [1, 1]], shape = (4, 1), type = ket\n",
       "        Qobj data =\n",
       "        [[ 0.        ]\n",
       "         [-0.70710678]\n",
       "         [ 0.70710678]\n",
       "         [ 0.        ]]                                                    ,\n",
       "        Quantum object: dims = [[2, 2], [1, 1]], shape = (4, 1), type = ket\n",
       "        Qobj data =\n",
       "        [[ 0.        ]\n",
       "         [-0.70710678]\n",
       "         [-0.70710678]\n",
       "         [ 0.        ]]                                                    ,\n",
       "        Quantum object: dims = [[2, 2], [1, 1]], shape = (4, 1), type = ket\n",
       "        Qobj data =\n",
       "        [[0.99875853]\n",
       "         [0.        ]\n",
       "         [0.        ]\n",
       "         [0.0498137 ]]                                                     ],\n",
       "       dtype=object))"
      ]
     },
     "execution_count": 117,
     "metadata": {},
     "output_type": "execute_result"
    }
   ],
   "source": [
    "H.eigenstates()"
   ]
  },
  {
   "cell_type": "markdown",
   "id": "43a44b1e",
   "metadata": {},
   "source": [
    "#### Jaynes-Cummings Hamiltonian"
   ]
  },
  {
   "cell_type": "markdown",
   "id": "2fe2c671",
   "metadata": {},
   "source": [
    "the Jaynes-Cumming Hamiltonian for a qubit-cavity system:\n",
    "$$\\hat{H} = \\omega_c \\hat{a}^\\dagger \\hat{a} - \\frac{\\omega_a}{2} \\hat{\\sigma}_z + g (\\hat{a}\\hat{\\sigma}_+ +\\hat{a}^\\dagger\\hat{\\sigma}_-)$$"
   ]
  },
  {
   "cell_type": "code",
   "execution_count": 118,
   "id": "4c9b2529",
   "metadata": {},
   "outputs": [
    {
     "data": {
      "text/latex": [
       "Quantum object: dims = [[5, 2], [5, 2]], shape = (10, 10), type = oper, isherm = True $ \\\\ \\left(\\begin{matrix}-0.500 & 0.0 & 0.0 & 0.0 & 0.0 & 0.0 & 0.0 & 0.0 & 0.0 & 0.0\\\\0.0 & 0.500 & 0.100 & 0.0 & 0.0 & 0.0 & 0.0 & 0.0 & 0.0 & 0.0\\\\0.0 & 0.100 & 0.500 & 0.0 & 0.0 & 0.0 & 0.0 & 0.0 & 0.0 & 0.0\\\\0.0 & 0.0 & 0.0 & 1.500 & 0.141 & 0.0 & 0.0 & 0.0 & 0.0 & 0.0\\\\0.0 & 0.0 & 0.0 & 0.141 & 1.500 & 0.0 & 0.0 & 0.0 & 0.0 & 0.0\\\\0.0 & 0.0 & 0.0 & 0.0 & 0.0 & 2.500 & 0.173 & 0.0 & 0.0 & 0.0\\\\0.0 & 0.0 & 0.0 & 0.0 & 0.0 & 0.173 & 2.500 & 0.0 & 0.0 & 0.0\\\\0.0 & 0.0 & 0.0 & 0.0 & 0.0 & 0.0 & 0.0 & 3.500 & 0.200 & 0.0\\\\0.0 & 0.0 & 0.0 & 0.0 & 0.0 & 0.0 & 0.0 & 0.200 & 3.500 & 0.0\\\\0.0 & 0.0 & 0.0 & 0.0 & 0.0 & 0.0 & 0.0 & 0.0 & 0.0 & 4.500\\\\\\end{matrix}\\right)$"
      ],
      "text/plain": [
       "Quantum object: dims = [[5, 2], [5, 2]], shape = (10, 10), type = oper, isherm = True\n",
       "Qobj data =\n",
       "[[-0.5         0.          0.          0.          0.          0.\n",
       "   0.          0.          0.          0.        ]\n",
       " [ 0.          0.5         0.1         0.          0.          0.\n",
       "   0.          0.          0.          0.        ]\n",
       " [ 0.          0.1         0.5         0.          0.          0.\n",
       "   0.          0.          0.          0.        ]\n",
       " [ 0.          0.          0.          1.5         0.14142136  0.\n",
       "   0.          0.          0.          0.        ]\n",
       " [ 0.          0.          0.          0.14142136  1.5         0.\n",
       "   0.          0.          0.          0.        ]\n",
       " [ 0.          0.          0.          0.          0.          2.5\n",
       "   0.17320508  0.          0.          0.        ]\n",
       " [ 0.          0.          0.          0.          0.          0.17320508\n",
       "   2.5         0.          0.          0.        ]\n",
       " [ 0.          0.          0.          0.          0.          0.\n",
       "   0.          3.5         0.2         0.        ]\n",
       " [ 0.          0.          0.          0.          0.          0.\n",
       "   0.          0.2         3.5         0.        ]\n",
       " [ 0.          0.          0.          0.          0.          0.\n",
       "   0.          0.          0.          4.5       ]]"
      ]
     },
     "execution_count": 118,
     "metadata": {},
     "output_type": "execute_result"
    }
   ],
   "source": [
    "wc = 1.0  # cavity frequency\n",
    "wa = 1.0  # qubit/atom frenqency\n",
    "g = 0.1  # coupling strength\n",
    "\n",
    "# cavity mode operator\n",
    "a = tensor(destroy(5), qeye(2))\n",
    "\n",
    "# qubit/atom operators\n",
    "sz = tensor(qeye(5), sigmaz())  # sigma-z operator\n",
    "sm = tensor(qeye(5), destroy(2))  # sigma-minus operator\n",
    "\n",
    "# the Jaynes-Cumming Hamiltonian\n",
    "H = wc * a.dag() * a - 0.5 * wa * sz + g * (a * sm.dag() + a.dag() * sm)\n",
    "\n",
    "H"
   ]
  },
  {
   "cell_type": "markdown",
   "id": "4363523d",
   "metadata": {},
   "source": [
    "## Unitary Evolution"
   ]
  },
  {
   "cell_type": "markdown",
   "id": "a253672e",
   "metadata": {},
   "source": [
    "Unitary evolution of a quantum system in QuTiP can be calculated with the `mesolve` function.\n",
    "\n",
    "`mesolve` is short for Master-eqaution solve (for dissipative dynamics), but if no collapse operators (which describe the dissipation) are given to the solve it falls back on the unitary evolution of the Schrodinger (for initial states in state vector for) or the von Neuman equation (for initial states in density matrix form).\n",
    "\n",
    "The evolution solvers in QuTiP returns a class of type `Odedata`, which contains the solution to the problem posed to the evolution solver.\n",
    "\n",
    "For example, considor a qubit with Hamiltonian $H=\\sigma_x$\n",
    " and initial state $∣1\\rangle$\n",
    " (in the sigma-z basis): Its evolution can be calculated as follows:"
   ]
  },
  {
   "cell_type": "code",
   "execution_count": 119,
   "id": "3a8c5c57",
   "metadata": {},
   "outputs": [],
   "source": [
    "mesolve?"
   ]
  },
  {
   "cell_type": "code",
   "execution_count": 137,
   "id": "808829fd",
   "metadata": {},
   "outputs": [],
   "source": [
    "# Hamiltonian\n",
    "Omega_d = 2* np.pi * 0.1\n",
    "\n",
    "H = Omega_d / 2 * sigmax()\n",
    "\n",
    "# initial state\n",
    "psi0 = basis(2, 1)\n",
    "\n",
    "# list of times for which the solver should store the state vector\n",
    "tlist = np.linspace(0, 10, 100)\n",
    "\n",
    "result = mesolve(H, psi0, tlist, [], [])"
   ]
  },
  {
   "cell_type": "code",
   "execution_count": 138,
   "id": "f50a00a7",
   "metadata": {},
   "outputs": [
    {
     "data": {
      "text/plain": [
       "10.0"
      ]
     },
     "execution_count": 138,
     "metadata": {},
     "output_type": "execute_result"
    }
   ],
   "source": [
    "2 * np.pi / Omega_d"
   ]
  },
  {
   "cell_type": "code",
   "execution_count": 139,
   "id": "ac370b48",
   "metadata": {},
   "outputs": [
    {
     "data": {
      "text/plain": [
       "Result object with sesolve data.\n",
       "--------------------------------\n",
       "states = True\n",
       "num_collapse = 0"
      ]
     },
     "execution_count": 139,
     "metadata": {},
     "output_type": "execute_result"
    }
   ],
   "source": [
    "result"
   ]
  },
  {
   "cell_type": "code",
   "execution_count": 140,
   "id": "73037878",
   "metadata": {},
   "outputs": [
    {
     "data": {
      "text/latex": [
       "Quantum object: dims = [[2], [1]], shape = (2, 1), type = ket $ \\\\ \\left(\\begin{matrix}-9.656\\times10^{-06}j\\\\-1.000\\\\\\end{matrix}\\right)$"
      ],
      "text/plain": [
       "Quantum object: dims = [[2], [1]], shape = (2, 1), type = ket\n",
       "Qobj data =\n",
       "[[ 0.-9.65622891e-06j]\n",
       " [-1.+0.00000000e+00j]]"
      ]
     },
     "execution_count": 140,
     "metadata": {},
     "output_type": "execute_result"
    }
   ],
   "source": [
    "result.states[-1]  # the finial state"
   ]
  },
  {
   "cell_type": "code",
   "execution_count": 141,
   "id": "718d15ac",
   "metadata": {},
   "outputs": [
    {
     "data": {
      "text/plain": [
       "-0.9999999998135145"
      ]
     },
     "execution_count": 141,
     "metadata": {},
     "output_type": "execute_result"
    }
   ],
   "source": [
    "# expectation value of sigma-z operator in the final state\n",
    "expect(sigmaz(), result.states[-1])"
   ]
  },
  {
   "cell_type": "code",
   "execution_count": 142,
   "id": "2a82ab31",
   "metadata": {},
   "outputs": [
    {
     "data": {
      "text/plain": [
       "array([-1.        , -0.99798668, -0.99195482, -0.98192871, -0.96794873,\n",
       "       -0.95007118, -0.92836803, -0.9029267 , -0.87384962, -0.84125387,\n",
       "       -0.80527071, -0.76604504, -0.72373481, -0.67851037, -0.63055385,\n",
       "       -0.58005834, -0.52722716, -0.47227306, -0.41541732, -0.35688886,\n",
       "       -0.29692336, -0.23576228, -0.17365188, -0.11084227, -0.04758635,\n",
       "        0.01586119,  0.07924486,  0.14230944,  0.204801  ,  0.26646792,\n",
       "        0.32706188,  0.38633891,  0.44406031,  0.49999367,  0.55391375,\n",
       "        0.60560346,  0.65485464,  0.70146899,  0.74525879,  0.78604774,\n",
       "        0.82367157,  0.8579788 ,  0.88883127,  0.91610475,  0.93968942,\n",
       "        0.95949031,  0.97542769,  0.98743738,  0.99547101,  0.99949624,\n",
       "        0.99949685,  0.99547284,  0.98744042,  0.97543193,  0.95949574,\n",
       "        0.939696  ,  0.91611246,  0.88884007,  0.85798866,  0.82368245,\n",
       "        0.78605959,  0.74527157,  0.70148263,  0.6548691 ,  0.60561868,\n",
       "        0.55392967,  0.50001021,  0.44407741,  0.3863565 ,  0.3270799 ,\n",
       "        0.26648629,  0.20481965,  0.14232829,  0.07926384,  0.01588023,\n",
       "       -0.04756732, -0.11082334, -0.17363312, -0.23574376, -0.29690516,\n",
       "       -0.35687104, -0.41539996, -0.47225623, -0.52721093, -0.58004276,\n",
       "       -0.630539  , -0.67849631, -0.72372159, -0.76603272, -0.80525934,\n",
       "       -0.84124349, -0.87384028, -0.90291844, -0.92836089, -0.95006517,\n",
       "       -0.96794389, -0.98192506, -0.99195237, -0.99798545, -1.        ])"
      ]
     },
     "execution_count": 142,
     "metadata": {},
     "output_type": "execute_result"
    }
   ],
   "source": [
    "# expectation value of sigma-z operator during the time evolution\n",
    "expect(sigmaz(), result.states)"
   ]
  },
  {
   "cell_type": "code",
   "execution_count": 143,
   "id": "d7cd6d95",
   "metadata": {},
   "outputs": [
    {
     "data": {
      "image/png": "[encoded data removed]",
      "text/plain": [
       "<Figure size 640x480 with 1 Axes>"
      ]
     },
     "metadata": {},
     "output_type": "display_data"
    }
   ],
   "source": [
    "fig, axes = plt.subplots(1, 1)\n",
    "\n",
    "axes.plot(tlist, expect(sigmaz(), result.states))\n",
    "\n",
    "axes.set_xlabel(r\"$t$\", fontsize=20)\n",
    "axes.set_ylabel(r\"$\\left<\\sigma_z\\right>$\", fontsize=20);"
   ]
  },
  {
   "cell_type": "markdown",
   "id": "89b22485",
   "metadata": {},
   "source": [
    "If we are only interested in expectation values, we could pass a list of operators to the `mesolve` function that we want expectation values for, and have the solver compute then and store the results in the `Odedata` class instance that it returns.\n",
    "\n",
    "For example, to request that the solver calculates the expectation values for the operators σx,σy,σz\n",
    ":"
   ]
  },
  {
   "cell_type": "code",
   "execution_count": 144,
   "id": "947ff994",
   "metadata": {},
   "outputs": [],
   "source": [
    "result = mesolve(H, psi0, tlist, [], [sigmax(), sigmay(), sigmaz()])"
   ]
  },
  {
   "cell_type": "markdown",
   "id": "b2b04116",
   "metadata": {},
   "source": [
    "Now the expectation values are available in `result.expect[0]`, `result.expect[1]`, and `result.expect[2]`:"
   ]
  },
  {
   "cell_type": "code",
   "execution_count": 145,
   "id": "1b3b9829",
   "metadata": {},
   "outputs": [
    {
     "data": {
      "image/png": "[encoded data removed]",
      "text/plain": [
       "<Figure size 640x480 with 1 Axes>"
      ]
     },
     "metadata": {},
     "output_type": "display_data"
    }
   ],
   "source": [
    "fig, axes = plt.subplots(1, 1)\n",
    "\n",
    "axes.plot(tlist, result.expect[2], label=r\"$\\left<\\sigma_z\\right>$\")\n",
    "axes.plot(tlist, result.expect[1], label=r\"$\\left<\\sigma_y\\right>$\")\n",
    "axes.plot(tlist, result.expect[0], label=r\"$\\left<\\sigma_x\\right>$\")\n",
    "\n",
    "axes.set_xlabel(r\"$t$\", fontsize=20)\n",
    "axes.legend(loc=2);"
   ]
  },
  {
   "cell_type": "markdown",
   "id": "ffc776f5",
   "metadata": {},
   "source": [
    "## Dissipative dynamics"
   ]
  },
  {
   "cell_type": "markdown",
   "id": "c65f2ef8",
   "metadata": {},
   "source": [
    "To add dissipation to a problem, all we need to do is to define a list of collapse operators to the call to the `mesolve` solver.\n",
    "\n",
    "A collapse operator is an operator that describes how the system is interacting with its environment.\n",
    "\n",
    "For example, consider a quantum harmonic oscillator with Hamiltonian\n",
    "$$H=\\hbar \\omega \\hat{a}^\\dagger \\hat{a}$$\n",
    "and which loses photons to its environment with a relaxation rate $\\kappa$. The collapse operator that describes this process is $\\sqrt{\\kappa}\\hat{a}$ since $\\hat{a}$ is the photon annihilation operator of the oscillator.\n",
    "\n",
    "To program this problem in QuTiP:"
   ]
  },
  {
   "cell_type": "code",
   "execution_count": 150,
   "id": "b3d30f19",
   "metadata": {},
   "outputs": [],
   "source": [
    "w = 1.0  # oscillator frequency\n",
    "kappa = 0.1  # relaxation rate\n",
    "a = destroy(10)  # oscillator annihilation operator\n",
    "rho0 = coherent_dm(10, 1)  # initial state, coherent state with alpha = 1.0\n",
    "H = w * a.dag() * a  # Hamiltonian\n",
    "\n",
    "# A list of collapse operators\n",
    "c_ops = [np.sqrt(kappa) * a]"
   ]
  },
  {
   "cell_type": "code",
   "execution_count": 161,
   "id": "ef6ad3de",
   "metadata": {},
   "outputs": [],
   "source": [
    "tlist = np.linspace(0, 50, 100)\n",
    "\n",
    "# request that the solver return the expectation value\n",
    "# of the photon number state operator a.dag() * a\n",
    "result = mesolve(H, rho0, tlist, c_ops, [a.dag() * a, (a + a.dag())/np.sqrt(2), -1j * (a - a.dag())/np.sqrt(2)])"
   ]
  },
  {
   "cell_type": "code",
   "execution_count": 162,
   "id": "c5e69c09",
   "metadata": {},
   "outputs": [
    {
     "data": {
      "image/png": "[encoded data removed]",
      "text/plain": [
       "<Figure size 640x480 with 1 Axes>"
      ]
     },
     "metadata": {},
     "output_type": "display_data"
    }
   ],
   "source": [
    "fig, axes = plt.subplots(1, 1)\n",
    "axes.plot(tlist, result.expect[0])\n",
    "axes.set_xlabel(r\"$t$\", fontsize=20)\n",
    "axes.set_ylabel(r\"Photon number\", fontsize=16);"
   ]
  },
  {
   "cell_type": "code",
   "execution_count": 163,
   "id": "2230ada8",
   "metadata": {},
   "outputs": [
    {
     "data": {
      "text/plain": [
       "<matplotlib.legend.Legend at 0x7ff77c276e20>"
      ]
     },
     "execution_count": 163,
     "metadata": {},
     "output_type": "execute_result"
    },
    {
     "data": {
      "image/png": "[encoded data removed]",
      "text/plain": [
       "<Figure size 640x480 with 1 Axes>"
      ]
     },
     "metadata": {},
     "output_type": "display_data"
    }
   ],
   "source": [
    "fig, axes = plt.subplots(1, 1)\n",
    "axes.plot(tlist, result.expect[1], label = 'X')\n",
    "axes.plot(tlist, result.expect[2], label = 'P')\n",
    "axes.set_xlabel(r\"$t$\", fontsize=20)\n",
    "axes.legend(loc = 0)\n",
    "# axes.set_ylabel(r\"Photon number\", fontsize=16);"
   ]
  },
  {
   "cell_type": "code",
   "execution_count": 165,
   "id": "b781cb3c",
   "metadata": {},
   "outputs": [
    {
     "data": {
      "text/plain": [
       "Text(0, 0.5, 'Y')"
      ]
     },
     "execution_count": 165,
     "metadata": {},
     "output_type": "execute_result"
    },
    {
     "data": {
      "image/png": "[encoded data removed]",
      "text/plain": [
       "<Figure size 640x480 with 1 Axes>"
      ]
     },
     "metadata": {},
     "output_type": "display_data"
    }
   ],
   "source": [
    "fig, axes = plt.subplots(1, 1)\n",
    "axes.plot(result.expect[1], result.expect[2])\n",
    "axes.set_xlabel('X')\n",
    "axes.set_ylabel('Y')"
   ]
  },
  {
   "cell_type": "code",
   "execution_count": null,
   "id": "a15333db",
   "metadata": {},
   "outputs": [],
   "source": []
  }
 ],
 "metadata": {
  "kernelspec": {
   "display_name": "Python 3 (ipykernel)",
   "language": "python",
   "name": "python3"
  },
  "language_info": {
   "codemirror_mode": {
    "name": "ipython",
    "version": 3
   },
   "file_extension": ".py",
   "mimetype": "text/x-python",
   "name": "python",
   "nbconvert_exporter": "python",
   "pygments_lexer": "ipython3",
   "version": "3.9.17"
  }
 },
 "nbformat": 4,
 "nbformat_minor": 5
}
